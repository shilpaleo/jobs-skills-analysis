{
 "cells": [
  {
   "cell_type": "code",
   "execution_count": 1,
   "metadata": {},
   "outputs": [
    {
     "name": "stderr",
     "output_type": "stream",
     "text": [
      "/home/shilpa/miniforge3/envs/liscrape/lib/python3.12/site-packages/tqdm/auto.py:21: TqdmWarning: IProgress not found. Please update jupyter and ipywidgets. See https://ipywidgets.readthedocs.io/en/stable/user_install.html\n",
      "  from .autonotebook import tqdm as notebook_tqdm\n"
     ]
    }
   ],
   "source": [
    "# library imports\n",
    "import pandas as pd\n",
    "import pandas_gbq\n",
    "from tqdm import tqdm\n",
    "from collections import Counter\n",
    "import matplotlib.pyplot as plt\n",
    "\n",
    "from jobspy import scrape_jobs\n",
    "\n",
    "import torch._dynamo\n",
    "torch._dynamo.config.suppress_errors = True\n",
    "from gliner import GLiNER"
   ]
  },
  {
   "cell_type": "markdown",
   "metadata": {},
   "source": [
    "#### Scraping Indeed data engineer job postings\n",
    "Library reference: [JobSpy](https://github.com/Bunsly/JobSpy)"
   ]
  },
  {
   "cell_type": "code",
   "execution_count": 2,
   "metadata": {},
   "outputs": [
    {
     "name": "stderr",
     "output_type": "stream",
     "text": [
      "2025-01-07 15:12:22,309 - INFO - JobSpy:Indeed - search page: 1 / 1\n",
      "2025-01-07 15:12:22,877 - INFO - JobSpy:Indeed - search page: 2 / 1\n",
      "2025-01-07 15:12:23,579 - INFO - JobSpy:Indeed - found no jobs on page: 2\n",
      "2025-01-07 15:12:23,581 - INFO - JobSpy:Indeed - finished scraping\n"
     ]
    },
    {
     "name": "stdout",
     "output_type": "stream",
     "text": [
      "(25, 28)\n"
     ]
    },
    {
     "data": {
      "text/html": [
       "<div>\n",
       "<style scoped>\n",
       "    .dataframe tbody tr th:only-of-type {\n",
       "        vertical-align: middle;\n",
       "    }\n",
       "\n",
       "    .dataframe tbody tr th {\n",
       "        vertical-align: top;\n",
       "    }\n",
       "\n",
       "    .dataframe thead th {\n",
       "        text-align: right;\n",
       "    }\n",
       "</style>\n",
       "<table border=\"1\" class=\"dataframe\">\n",
       "  <thead>\n",
       "    <tr style=\"text-align: right;\">\n",
       "      <th></th>\n",
       "      <th>id</th>\n",
       "      <th>site</th>\n",
       "      <th>job_url</th>\n",
       "      <th>job_url_direct</th>\n",
       "      <th>title</th>\n",
       "      <th>company</th>\n",
       "      <th>location</th>\n",
       "      <th>date_posted</th>\n",
       "      <th>job_type</th>\n",
       "      <th>salary_source</th>\n",
       "      <th>...</th>\n",
       "      <th>emails</th>\n",
       "      <th>description</th>\n",
       "      <th>company_industry</th>\n",
       "      <th>company_url</th>\n",
       "      <th>company_logo</th>\n",
       "      <th>company_url_direct</th>\n",
       "      <th>company_addresses</th>\n",
       "      <th>company_num_employees</th>\n",
       "      <th>company_revenue</th>\n",
       "      <th>company_description</th>\n",
       "    </tr>\n",
       "  </thead>\n",
       "  <tbody>\n",
       "    <tr>\n",
       "      <th>0</th>\n",
       "      <td>in-b0e8c81650f3188a</td>\n",
       "      <td>indeed</td>\n",
       "      <td>https://sg.indeed.com/viewjob?jk=b0e8c81650f3188a</td>\n",
       "      <td>https://cba.wd3.myworkdayjobs.com/en-US/commba...</td>\n",
       "      <td>Data Engineer</td>\n",
       "      <td>Commonwealth Bank of Australia</td>\n",
       "      <td>Park Road, S00, SG</td>\n",
       "      <td>2025-01-06</td>\n",
       "      <td>fulltime</td>\n",
       "      <td>None</td>\n",
       "      <td>...</td>\n",
       "      <td>NaN</td>\n",
       "      <td>**Organization:** At CommBank, we never lose s...</td>\n",
       "      <td>NaN</td>\n",
       "      <td>https://sg.indeed.com/cmp/Commonwealth-Bank-of...</td>\n",
       "      <td>https://d2q79iu7y748jz.cloudfront.net/s/_squar...</td>\n",
       "      <td>http://www.commbank.com.au</td>\n",
       "      <td>Sydney</td>\n",
       "      <td>10,000+</td>\n",
       "      <td>$5B to $10B (USD)</td>\n",
       "      <td>At CommBank, we're committed to improving the ...</td>\n",
       "    </tr>\n",
       "    <tr>\n",
       "      <th>1</th>\n",
       "      <td>in-6e73f8f277364aac</td>\n",
       "      <td>indeed</td>\n",
       "      <td>https://sg.indeed.com/viewjob?jk=6e73f8f277364aac</td>\n",
       "      <td>https://astreya.wd5.myworkdayjobs.com/en-US/li...</td>\n",
       "      <td>Data Engineer II - AI/ML</td>\n",
       "      <td>Astreya Partners</td>\n",
       "      <td>Singapore, S00, SG</td>\n",
       "      <td>2025-01-06</td>\n",
       "      <td>fulltime</td>\n",
       "      <td>None</td>\n",
       "      <td>...</td>\n",
       "      <td>NaN</td>\n",
       "      <td>We are looking for a Data Engineer to join our...</td>\n",
       "      <td>NaN</td>\n",
       "      <td>https://sg.indeed.com/cmp/Astreya-Partners</td>\n",
       "      <td>https://d2q79iu7y748jz.cloudfront.net/s/_squar...</td>\n",
       "      <td>https://www.astreya.com</td>\n",
       "      <td>San Jose, CA</td>\n",
       "      <td>1,001 to 5,000</td>\n",
       "      <td>$25M to $100M (USD)</td>\n",
       "      <td>Astreya is the leading IT solutions provider f...</td>\n",
       "    </tr>\n",
       "    <tr>\n",
       "      <th>2</th>\n",
       "      <td>in-0a9f2e0e8d914a9c</td>\n",
       "      <td>indeed</td>\n",
       "      <td>https://sg.indeed.com/viewjob?jk=0a9f2e0e8d914a9c</td>\n",
       "      <td>https://www.mycareersfuture.gov.sg/job/informa...</td>\n",
       "      <td>Data Engineer (Informatica PowerCenter ETL)</td>\n",
       "      <td>EXASOFT PTE. LTD.</td>\n",
       "      <td>Singapore, S00, SG</td>\n",
       "      <td>2025-01-06</td>\n",
       "      <td>contract</td>\n",
       "      <td>None</td>\n",
       "      <td>...</td>\n",
       "      <td>NaN</td>\n",
       "      <td>**Responsibilities:**\\n\\n* Strong understandin...</td>\n",
       "      <td>NaN</td>\n",
       "      <td>https://sg.indeed.com/cmp/Exasoft-Pte.-Ltd.</td>\n",
       "      <td>NaN</td>\n",
       "      <td>NaN</td>\n",
       "      <td>NaN</td>\n",
       "      <td>NaN</td>\n",
       "      <td>NaN</td>\n",
       "      <td>NaN</td>\n",
       "    </tr>\n",
       "    <tr>\n",
       "      <th>3</th>\n",
       "      <td>in-e4338a30961203ec</td>\n",
       "      <td>indeed</td>\n",
       "      <td>https://sg.indeed.com/viewjob?jk=e4338a30961203ec</td>\n",
       "      <td>https://www.mycareersfuture.gov.sg/job/informa...</td>\n",
       "      <td>Senior Data Engineer (Frontend)</td>\n",
       "      <td>HYPERSCAL SOLUTIONS PTE. LTD.</td>\n",
       "      <td>Singapore, S00, SG</td>\n",
       "      <td>2025-01-06</td>\n",
       "      <td>fulltime</td>\n",
       "      <td>None</td>\n",
       "      <td>...</td>\n",
       "      <td>NaN</td>\n",
       "      <td>**COMPANY DESCRIPTION**\\n\\nMediacorp is Singap...</td>\n",
       "      <td>NaN</td>\n",
       "      <td>https://sg.indeed.com/cmp/Hyperscal-Solutions-...</td>\n",
       "      <td>NaN</td>\n",
       "      <td>NaN</td>\n",
       "      <td>NaN</td>\n",
       "      <td>NaN</td>\n",
       "      <td>NaN</td>\n",
       "      <td>NaN</td>\n",
       "    </tr>\n",
       "    <tr>\n",
       "      <th>4</th>\n",
       "      <td>in-62048c9d2f250858</td>\n",
       "      <td>indeed</td>\n",
       "      <td>https://sg.indeed.com/viewjob?jk=62048c9d2f250858</td>\n",
       "      <td>https://www.mycareersfuture.gov.sg/job/informa...</td>\n",
       "      <td>IT Data Engineer (12 months Agency Contract) PHN</td>\n",
       "      <td>EVO OUTSOURCING SOLUTIONS PTE. LTD.</td>\n",
       "      <td>Singapore, S00, SG</td>\n",
       "      <td>2025-01-06</td>\n",
       "      <td>fulltime, contract</td>\n",
       "      <td>None</td>\n",
       "      <td>...</td>\n",
       "      <td>NaN</td>\n",
       "      <td>* Build data pipelines (ETL) to enable scalabl...</td>\n",
       "      <td>NaN</td>\n",
       "      <td>https://sg.indeed.com/cmp/Evo-Outsourcing-Solu...</td>\n",
       "      <td>NaN</td>\n",
       "      <td>NaN</td>\n",
       "      <td>NaN</td>\n",
       "      <td>NaN</td>\n",
       "      <td>NaN</td>\n",
       "      <td>NaN</td>\n",
       "    </tr>\n",
       "  </tbody>\n",
       "</table>\n",
       "<p>5 rows × 28 columns</p>\n",
       "</div>"
      ],
      "text/plain": [
       "                    id    site  \\\n",
       "0  in-b0e8c81650f3188a  indeed   \n",
       "1  in-6e73f8f277364aac  indeed   \n",
       "2  in-0a9f2e0e8d914a9c  indeed   \n",
       "3  in-e4338a30961203ec  indeed   \n",
       "4  in-62048c9d2f250858  indeed   \n",
       "\n",
       "                                             job_url  \\\n",
       "0  https://sg.indeed.com/viewjob?jk=b0e8c81650f3188a   \n",
       "1  https://sg.indeed.com/viewjob?jk=6e73f8f277364aac   \n",
       "2  https://sg.indeed.com/viewjob?jk=0a9f2e0e8d914a9c   \n",
       "3  https://sg.indeed.com/viewjob?jk=e4338a30961203ec   \n",
       "4  https://sg.indeed.com/viewjob?jk=62048c9d2f250858   \n",
       "\n",
       "                                      job_url_direct  \\\n",
       "0  https://cba.wd3.myworkdayjobs.com/en-US/commba...   \n",
       "1  https://astreya.wd5.myworkdayjobs.com/en-US/li...   \n",
       "2  https://www.mycareersfuture.gov.sg/job/informa...   \n",
       "3  https://www.mycareersfuture.gov.sg/job/informa...   \n",
       "4  https://www.mycareersfuture.gov.sg/job/informa...   \n",
       "\n",
       "                                              title  \\\n",
       "0                                     Data Engineer   \n",
       "1                          Data Engineer II - AI/ML   \n",
       "2       Data Engineer (Informatica PowerCenter ETL)   \n",
       "3                   Senior Data Engineer (Frontend)   \n",
       "4  IT Data Engineer (12 months Agency Contract) PHN   \n",
       "\n",
       "                               company            location date_posted  \\\n",
       "0       Commonwealth Bank of Australia  Park Road, S00, SG  2025-01-06   \n",
       "1                     Astreya Partners  Singapore, S00, SG  2025-01-06   \n",
       "2                    EXASOFT PTE. LTD.  Singapore, S00, SG  2025-01-06   \n",
       "3        HYPERSCAL SOLUTIONS PTE. LTD.  Singapore, S00, SG  2025-01-06   \n",
       "4  EVO OUTSOURCING SOLUTIONS PTE. LTD.  Singapore, S00, SG  2025-01-06   \n",
       "\n",
       "             job_type salary_source  ... emails  \\\n",
       "0            fulltime          None  ...    NaN   \n",
       "1            fulltime          None  ...    NaN   \n",
       "2            contract          None  ...    NaN   \n",
       "3            fulltime          None  ...    NaN   \n",
       "4  fulltime, contract          None  ...    NaN   \n",
       "\n",
       "                                         description company_industry  \\\n",
       "0  **Organization:** At CommBank, we never lose s...              NaN   \n",
       "1  We are looking for a Data Engineer to join our...              NaN   \n",
       "2  **Responsibilities:**\\n\\n* Strong understandin...              NaN   \n",
       "3  **COMPANY DESCRIPTION**\\n\\nMediacorp is Singap...              NaN   \n",
       "4  * Build data pipelines (ETL) to enable scalabl...              NaN   \n",
       "\n",
       "                                         company_url  \\\n",
       "0  https://sg.indeed.com/cmp/Commonwealth-Bank-of...   \n",
       "1         https://sg.indeed.com/cmp/Astreya-Partners   \n",
       "2        https://sg.indeed.com/cmp/Exasoft-Pte.-Ltd.   \n",
       "3  https://sg.indeed.com/cmp/Hyperscal-Solutions-...   \n",
       "4  https://sg.indeed.com/cmp/Evo-Outsourcing-Solu...   \n",
       "\n",
       "                                        company_logo  \\\n",
       "0  https://d2q79iu7y748jz.cloudfront.net/s/_squar...   \n",
       "1  https://d2q79iu7y748jz.cloudfront.net/s/_squar...   \n",
       "2                                                NaN   \n",
       "3                                                NaN   \n",
       "4                                                NaN   \n",
       "\n",
       "           company_url_direct company_addresses company_num_employees  \\\n",
       "0  http://www.commbank.com.au            Sydney               10,000+   \n",
       "1     https://www.astreya.com      San Jose, CA        1,001 to 5,000   \n",
       "2                         NaN               NaN                   NaN   \n",
       "3                         NaN               NaN                   NaN   \n",
       "4                         NaN               NaN                   NaN   \n",
       "\n",
       "       company_revenue                                company_description  \n",
       "0    $5B to $10B (USD)  At CommBank, we're committed to improving the ...  \n",
       "1  $25M to $100M (USD)  Astreya is the leading IT solutions provider f...  \n",
       "2                  NaN                                                NaN  \n",
       "3                  NaN                                                NaN  \n",
       "4                  NaN                                                NaN  \n",
       "\n",
       "[5 rows x 28 columns]"
      ]
     },
     "execution_count": 2,
     "metadata": {},
     "output_type": "execute_result"
    }
   ],
   "source": [
    "# call function to scrape jobs\n",
    "indeed_jobs = scrape_jobs(\n",
    "    site_name=[\"indeed\"],\n",
    "    search_term='\"data engineer\"',\n",
    "    location=\"Singapore\",\n",
    "    results_wanted=50,\n",
    "    hours_old=168,\n",
    "    country_indeed='Singapore',\n",
    "    job_type='fulltime',\n",
    ")\n",
    "print(indeed_jobs.shape)\n",
    "indeed_jobs.head()"
   ]
  },
  {
   "cell_type": "markdown",
   "metadata": {},
   "source": [
    "**Conclusion:** Examining the scraped positions, the scraping library achieves a high accuracy of ~95%!"
   ]
  },
  {
   "cell_type": "markdown",
   "metadata": {},
   "source": [
    "#### NER on scraped job descriptions from Indeed for DE skills extraction\n",
    "Library reference: [Hugging Face GLiNER](https://huggingface.co/urchade/gliner_large-v2.1)"
   ]
  },
  {
   "cell_type": "code",
   "execution_count": 3,
   "metadata": {},
   "outputs": [
    {
     "name": "stderr",
     "output_type": "stream",
     "text": [
      "Fetching 9 files: 100%|██████████| 9/9 [00:00<00:00, 49152.00it/s]\n"
     ]
    }
   ],
   "source": [
    "# load gliner model\n",
    "model = GLiNER.from_pretrained(\"knowledgator/modern-gliner-bi-large-v1.0\")"
   ]
  },
  {
   "cell_type": "code",
   "execution_count": 4,
   "metadata": {},
   "outputs": [],
   "source": [
    "# define NER labels to predict data engineering skills in job description\n",
    "labels = [\"technology\", \"technical skill\", \"programming language\", \"framework\", \"tool\", \"database\", \"cloud platform\", \"data warehousing\", \"data modeling\", \"data quality\", \"automation tool\", \"machine learning\"]"
   ]
  },
  {
   "cell_type": "code",
   "execution_count": null,
   "metadata": {},
   "outputs": [],
   "source": [
    "tqdm.pandas()\n",
    "\n",
    "# function to predict NER labels on all job descriptions\n",
    "def predict_labels(text):\n",
    "    entities = model.predict_entities(text, labels, threshold=0.3)\n",
    "    deduped_skills = list(set([entity[\"text\"].lower() for entity in entities]))\n",
    "    return deduped_skills\n",
    "\n",
    "# apply the function to the 'description' column and save extracted NER labels\n",
    "indeed_jobs['predicted_labels'] = indeed_jobs['description'].progress_apply(predict_labels)\n",
    "indeed_jobs.shape"
   ]
  },
  {
   "cell_type": "code",
   "execution_count": 6,
   "metadata": {},
   "outputs": [
    {
     "name": "stderr",
     "output_type": "stream",
     "text": [
      "100%|██████████| 25/25 [00:00<00:00, 2984.42it/s]\n"
     ]
    }
   ],
   "source": [
    "# function to clean list of skills\n",
    "def clean_list(input_list):\n",
    "    output_list = input_list.copy()  \n",
    "\n",
    "    for item in input_list:\n",
    "        for other_item in input_list:\n",
    "            if item != other_item and item in other_item:\n",
    "                # special case handling: 'java' should not remove 'javascript' \n",
    "                if item == 'java' and other_item == 'javascript':\n",
    "                    continue\n",
    "                # item is a substring of other_item\n",
    "                if len(item) < len(other_item) and other_item in output_list:\n",
    "                    # remove the longer substring if the shorter one exists\n",
    "                    output_list.remove(other_item)\n",
    "\n",
    "    return output_list\n",
    "\n",
    "# apply final cleaning to the 'predicted_labels' column\n",
    "indeed_jobs['predicted_labels'] = indeed_jobs['predicted_labels'].progress_apply(clean_list)"
   ]
  },
  {
   "cell_type": "markdown",
   "metadata": {},
   "source": [
    "#### Visualize top 10 skills requirement"
   ]
  },
  {
   "cell_type": "code",
   "execution_count": 7,
   "metadata": {},
   "outputs": [
    {
     "data": {
      "image/png": "[encoded data removed]",
      "text/plain": [
       "<Figure size 1000x600 with 1 Axes>"
      ]
     },
     "metadata": {},
     "output_type": "display_data"
    }
   ],
   "source": [
    "# flatten the list of skills from all job descriptions\n",
    "all_skills = [skill for sublist in indeed_jobs['predicted_labels'] for skill in sublist]\n",
    "\n",
    "# count the occurrences of each skill\n",
    "# return a dictionary with the skill as key and count as the value\n",
    "skill_counts = Counter(all_skills)\n",
    "\n",
    "# calculate the percentage occurrence of each skill\n",
    "total_jobs = len(indeed_jobs) # total jobs scraped\n",
    "skill_percentages = {skill: (count / total_jobs) * 100 for skill, count in skill_counts.items()} # dict comprehension to create new dict with skills and corresponding %\n",
    "\n",
    "# convert the dictionary to a DataFrame for easier manipulation\n",
    "skill_df = pd.DataFrame.from_dict(skill_percentages, orient='index', columns=['Percentage']).reset_index()\n",
    "skill_df = skill_df.rename(columns={'index': 'Skill'})\n",
    "\n",
    "# sort the DataFrame by percentage in descending order and get the top 10 skills\n",
    "top_skills = skill_df.sort_values(by='Percentage', ascending=False).head(10)\n",
    "\n",
    "# plot the top 10 skills using a bar chart\n",
    "plt.figure(figsize=(10, 6))\n",
    "plt.barh(top_skills['Skill'], top_skills['Percentage'], color='skyblue')\n",
    "plt.xlabel('Percentage of Job Descriptions (%)')\n",
    "plt.title('Top 10 In-Demand Skills')\n",
    "plt.gca().invert_yaxis()  # Invert y-axis to have the highest percentage at the top\n",
    "plt.show()"
   ]
  },
  {
   "cell_type": "markdown",
   "metadata": {},
   "source": [
    "#### Load Dataframe to Google BigQuery"
   ]
  },
  {
   "cell_type": "code",
   "execution_count": 10,
   "metadata": {},
   "outputs": [],
   "source": [
    "import os\n",
    "os.environ[\"GOOGLE_APPLICATION_CREDENTIALS\"] = \"../xxxx.json\" # replace with own service account key\n",
    "\n",
    "from google.cloud import bigquery\n",
    "\n",
    "# Initialize BigQuery client\n",
    "client = bigquery.Client()"
   ]
  },
  {
   "cell_type": "code",
   "execution_count": 11,
   "metadata": {},
   "outputs": [
    {
     "name": "stdout",
     "output_type": "stream",
     "text": [
      "Loaded 25 rows into BigQuery.\n"
     ]
    }
   ],
   "source": [
    "# Define the target BigQuery table\n",
    "\n",
    "table_full_id = f\"xxxx\" # replace with own project-dataset-tableid\n",
    "\n",
    "# Load the DataFrame into BigQuery\n",
    "job = client.load_table_from_dataframe(indeed_jobs, table_full_id)\n",
    "job.result()  # Wait for the job to complete\n",
    "\n",
    "print(f\"Loaded {job.output_rows} rows into BigQuery.\")"
   ]
  }
 ],
 "metadata": {
  "kernelspec": {
   "display_name": "liscrape",
   "language": "python",
   "name": "python3"
  },
  "language_info": {
   "codemirror_mode": {
    "name": "ipython",
    "version": 3
   },
   "file_extension": ".py",
   "mimetype": "text/x-python",
   "name": "python",
   "nbconvert_exporter": "python",
   "pygments_lexer": "ipython3",
   "version": "3.12.8"
  }
 },
 "nbformat": 4,
 "nbformat_minor": 2
}
